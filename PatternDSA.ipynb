{
 "cells": [
  {
   "cell_type": "code",
   "execution_count": 6,
   "metadata": {},
   "outputs": [
    {
     "name": "stdout",
     "output_type": "stream",
     "text": [
      "* * * * * * \n",
      "* * * * * * \n",
      "* * * * * * \n",
      "* * * * * * \n",
      "* * * * * * \n",
      "* * * * * * \n"
     ]
    }
   ],
   "source": [
    "def starpattern(N):\n",
    "    for i in range(0,N):\n",
    "        for j in range(0,N):\n",
    "            print(\"*\",end=\" \")\n",
    "        print()\n",
    "        \n",
    "\n",
    "N = 6\n",
    "\n",
    "starpattern(N)"
   ]
  },
  {
   "cell_type": "code",
   "execution_count": 11,
   "metadata": {},
   "outputs": [
    {
     "name": "stdout",
     "output_type": "stream",
     "text": [
      "* \n",
      "* * \n",
      "* * * \n",
      "* * * * \n",
      "* * * * * \n",
      "* * * * * * \n"
     ]
    }
   ],
   "source": [
    "def starpattern(N):\n",
    "    for i in range(0,N):\n",
    "        for j in range(0,i+1):\n",
    "            print(\"*\",end=\" \")\n",
    "        print()\n",
    "        \n",
    "\n",
    "N = 6\n",
    "\n",
    "starpattern(N)"
   ]
  },
  {
   "cell_type": "code",
   "execution_count": 31,
   "metadata": {},
   "outputs": [
    {
     "name": "stdout",
     "output_type": "stream",
     "text": [
      "* * * * * * \n",
      "* * * * * \n",
      "* * * * \n",
      "* * * \n",
      "* * \n",
      "* \n"
     ]
    }
   ],
   "source": [
    "def starpattern(N):\n",
    "    for i in range(N,0,-1):\n",
    "        for j in range(i):\n",
    "            print(\"*\", end = \" \")\n",
    "        print()\n",
    "        \n",
    "        \n",
    "N = 6\n",
    "starpattern(6)"
   ]
  },
  {
   "cell_type": "code",
   "execution_count": 39,
   "metadata": {},
   "outputs": [
    {
     "name": "stdout",
     "output_type": "stream",
     "text": [
      "1 \n",
      "2 2 \n",
      "3 3 3 \n",
      "4 4 4 4 \n",
      "5 5 5 5 5 \n",
      "6 6 6 6 6 6 \n"
     ]
    }
   ],
   "source": [
    "def pattern(N):\n",
    "    for i in range(1,N+1):\n",
    "        for j in range(1,i+1):\n",
    "            print(i,end=\" \")\n",
    "        print()\n",
    "        \n",
    "        \n",
    "pattern(6)"
   ]
  },
  {
   "cell_type": "code",
   "execution_count": 40,
   "metadata": {},
   "outputs": [
    {
     "name": "stdout",
     "output_type": "stream",
     "text": [
      "1 \n",
      "1 2 \n",
      "1 2 3 \n",
      "1 2 3 4 \n",
      "1 2 3 4 5 \n",
      "1 2 3 4 5 6 \n"
     ]
    }
   ],
   "source": [
    "def pattern(N):\n",
    "    for i in range(1,N+1):\n",
    "        for j in range(1,i+1):\n",
    "            print(j,end=\" \")\n",
    "        print()\n",
    "        \n",
    "        \n",
    "pattern(6)"
   ]
  },
  {
   "cell_type": "code",
   "execution_count": 43,
   "metadata": {},
   "outputs": [
    {
     "name": "stdout",
     "output_type": "stream",
     "text": [
      "6 6 6 6 6 6 \n",
      "5 5 5 5 5 \n",
      "4 4 4 4 \n",
      "3 3 3 \n",
      "2 2 \n",
      "1 \n"
     ]
    }
   ],
   "source": [
    "def pattern(N):\n",
    "    for i in range(N,0,-1):\n",
    "        for j in range(1,i+1):\n",
    "            print(i,end=\" \")\n",
    "        print()\n",
    "        \n",
    "        \n",
    "pattern(6)"
   ]
  },
  {
   "cell_type": "code",
   "execution_count": 48,
   "metadata": {},
   "outputs": [
    {
     "name": "stdout",
     "output_type": "stream",
     "text": [
      "6 5 4 3 2 1 \n",
      "5 4 3 2 1 \n",
      "4 3 2 1 \n",
      "3 2 1 \n",
      "2 1 \n",
      "1 \n"
     ]
    }
   ],
   "source": [
    "def pattern(N):\n",
    "    for i in range(N,0,-1):\n",
    "        for j in range(i,0,-1):\n",
    "            print(j,end=\" \")\n",
    "        print()\n",
    "        \n",
    "        \n",
    "pattern(6)"
   ]
  },
  {
   "cell_type": "code",
   "execution_count": 92,
   "metadata": {},
   "outputs": [
    {
     "name": "stdout",
     "output_type": "stream",
     "text": [
      "- - - - - - * - - - - - - \n",
      "- - - - - * * * - - - - - \n",
      "- - - - * * * * * - - - - \n",
      "- - - * * * * * * * - - - \n",
      "- - * * * * * * * * * - - \n",
      "- * * * * * * * * * * * - \n",
      "* * * * * * * * * * * * * \n"
     ]
    }
   ],
   "source": [
    "def star_triangle(N):\n",
    "    for i in range(N):\n",
    "        for j in range(0,(N - i - 1)):\n",
    "            print(\"-\", end=\" \")\n",
    "        for j in range(0,(2 * i + 1)):\n",
    "            print(\"*\", end=\" \")\n",
    "        for j in range(0,(N - i - 1)):\n",
    "            print(\"-\", end=\" \")\n",
    "        \n",
    "        print()\n",
    "\n",
    "N = 7\n",
    "star_triangle(N)\n"
   ]
  },
  {
   "cell_type": "code",
   "execution_count": 99,
   "metadata": {},
   "outputs": [
    {
     "name": "stdout",
     "output_type": "stream",
     "text": [
      "*  *  *  *  *  0  *  *  *  *  *  \n",
      "*  *  *  *  0  1  2  *  *  *  *  \n",
      "*  *  *  0  1  2  3  4  *  *  *  \n",
      "*  *  0  1  2  3  4  5  6  *  *  \n",
      "*  0  1  2  3  4  5  6  7  8  *  \n",
      "0  1  2  3  4  5  6  7  8  9  10  \n"
     ]
    }
   ],
   "source": [
    "def pattern(N):\n",
    "    for i in range(0,N):\n",
    "        for j in range(0,(N-i-1)):\n",
    "            print(\"*\",end = \"  \")\n",
    "        for j in range(0,2*i+1):\n",
    "            print(j,end = \"  \")\n",
    "        for j in range(0,N-i-1):\n",
    "            print(\"*\",end = \"  \")\n",
    "            \n",
    "        print()\n",
    "        \n",
    "\n",
    "pattern(6)"
   ]
  },
  {
   "cell_type": "code",
   "execution_count": 114,
   "metadata": {},
   "outputs": [
    {
     "name": "stdout",
     "output_type": "stream",
     "text": [
      "0 0 0 0 0 0 0 0 0 \n",
      "* 0 0 0 0 0 0 0 * \n",
      "* * 0 0 0 0 0 * * \n",
      "* * * 0 0 0 * * * \n",
      "* * * * 0 * * * * \n"
     ]
    }
   ],
   "source": [
    "def inversepattern(N):\n",
    "    for i in range(0,N):\n",
    "        for j in range(0,i):\n",
    "            print(\"*\", end = \" \")\n",
    "        for j in range(2*N -(2*i +1)):\n",
    "            print(\"0\", end = \" \")\n",
    "        for j in range(0,i):\n",
    "            print(\"*\",end =  \" \")\n",
    "        #for j in range(N-i-1,0,-1):\n",
    "        #    print(\"*\", end = \" \")\n",
    "            \n",
    "        print()\n",
    "        \n",
    "        \n",
    "inversepattern(5)"
   ]
  },
  {
   "cell_type": "code",
   "execution_count": null,
   "metadata": {},
   "outputs": [],
   "source": []
  }
 ],
 "metadata": {
  "kernelspec": {
   "display_name": "base",
   "language": "python",
   "name": "python3"
  },
  "language_info": {
   "codemirror_mode": {
    "name": "ipython",
    "version": 3
   },
   "file_extension": ".py",
   "mimetype": "text/x-python",
   "name": "python",
   "nbconvert_exporter": "python",
   "pygments_lexer": "ipython3",
   "version": "3.9.13"
  }
 },
 "nbformat": 4,
 "nbformat_minor": 2
}
